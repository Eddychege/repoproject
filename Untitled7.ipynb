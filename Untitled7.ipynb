{
  "nbformat": 4,
  "nbformat_minor": 0,
  "metadata": {
    "colab": {
      "provenance": [],
      "authorship_tag": "ABX9TyP8pqWUBr3UTSsagVUDS5ai",
      "include_colab_link": true
    },
    "kernelspec": {
      "name": "python3",
      "display_name": "Python 3"
    },
    "language_info": {
      "name": "python"
    }
  },
  "cells": [
    {
      "cell_type": "markdown",
      "metadata": {
        "id": "view-in-github",
        "colab_type": "text"
      },
      "source": [
        "<a href=\"https://colab.research.google.com/github/Eddychege/repoproject/blob/main/Untitled7.ipynb\" target=\"_parent\"><img src=\"https://colab.research.google.com/assets/colab-badge.svg\" alt=\"Open In Colab\"/></a>"
      ]
    },
    {
      "cell_type": "code",
      "execution_count": 39,
      "metadata": {
        "colab": {
          "base_uri": "https://localhost:8080/"
        },
        "id": "Wxc-9pbeyrB5",
        "outputId": "521d6679-1aec-402a-c5a3-55b8de3a8104"
      },
      "outputs": [
        {
          "output_type": "stream",
          "name": "stdout",
          "text": [
            "       County SUBCOUNTY CONSTITUENCY              WARD  \\\n",
            "1639  Mombasa   Mombasa        Mvita  Ganjoni/Shimanzi   \n",
            "1640  Mombasa   Mombasa        Mvita  Ganjoni/Shimanzi   \n",
            "1641  Mombasa   Mombasa        Mvita  Ganjoni/Shimanzi   \n",
            "1642  Mombasa   Mombasa        Mvita  Ganjoni/Shimanzi   \n",
            "1643  Mombasa   Mombasa        Mvita  Ganjoni/Shimanzi   \n",
            "\n",
            "                     SITENAME  \n",
            "1639              TKL Mombasa  \n",
            "1640               CC Mombasa  \n",
            "1641  County Assembly Mombasa  \n",
            "1642         Governor Mombasa  \n",
            "1643              KNA Mombasa  \n"
          ]
        }
      ],
      "source": [
        "import pandas as pd\n",
        "\n",
        "# Load the dataset\n",
        "file_path='/content/FINAL COMBINED SITES - Sites (2).csv'\n",
        "df=pd.read_csv(file_path)\n",
        "\n",
        "# Filter the dataset to include only rows from coast region\n",
        "coast_region_counties=['Mombasa', 'Kilifi', 'Kwale', 'Lamu', 'Taita Taveta']\n",
        "df_coast_region=df[df['REGION']=='Coast']\n",
        "\n",
        "# Extract the relevant column\n",
        "df_coast_region_filtered=df_coast_region[['County', 'SUBCOUNTY', 'CONSTITUENCY', 'WARD', 'SITENAME']]\n",
        "\n",
        "# Display the filtered data\n",
        "print(df_coast_region_filtered.head())\n"
      ]
    },
    {
      "cell_type": "code",
      "source": [
        "# Save the filtered dataset to a new csv file\n",
        "output_file_path='/content/FINAL COMBINED SITES - Sites (2).csv'\n",
        "df_coast_region_filtered.to_csv(output_file_path, index=False)\n",
        "# Print the path of te saved file\n",
        "print(f\"Filtered dataset saved to {output_file_path}\")\n"
      ],
      "metadata": {
        "colab": {
          "base_uri": "https://localhost:8080/"
        },
        "id": "pDJffcTg19AW",
        "outputId": "ba7ed4b0-1d4e-4c52-8f1e-efc50bdc095a"
      },
      "execution_count": 40,
      "outputs": [
        {
          "output_type": "stream",
          "name": "stdout",
          "text": [
            "Filtered dataset saved to /content/FINAL COMBINED SITES - Sites (2).csv\n"
          ]
        }
      ]
    },
    {
      "cell_type": "code",
      "source": [
        "# Combined dictionary for counties -> subcounties -> constituencies -> wards\n",
        "region_data = {\n",
        "    \"Mombasa\": {\n",
        "        \"Changamwe\": {\n",
        "            \"Mvita\": [\n",
        "                \"Port Reitz\", \"Kipevu\", \"Airport\", \"Changamwe\", \"Chaani\"\n",
        "            ]\n",
        "        },\n",
        "        \"Jomvu\": {\n",
        "            \"Jomvu\": [\n",
        "                \"Jomvu Kuu\", \"Miritini\", \"Mikindani\"\n",
        "            ]\n",
        "        },\n",
        "        \"Kisauni\": {\n",
        "            \"Kisauni\": [\n",
        "                \"Mjambere\", \"Junda\", \"Bamburi\", \"Mwakirunge\", \"Mtopanga\", \"Magogoni\", \"Shanzu\"\n",
        "            ]\n",
        "        },\n",
        "        \"Nyali\": {\n",
        "            \"Nyali\": [\n",
        "                \"Frere Town\", \"Ziwa La Ng'Ombe\", \"Mkomani\", \"Kongowea\", \"Kadzandani\"\n",
        "            ]\n",
        "        },\n",
        "        \"Likoni\": {\n",
        "            \"Likoni\": [\n",
        "                \"Mtongwe\", \"Shika Adabu\", \"Bofu\", \"Likoni\", \"Timbwani\"\n",
        "            ]\n",
        "        },\n",
        "        \"Mvita\": {\n",
        "            \"Mvita\": [\n",
        "                \"Mji Wa Kale/Makadara\", \"Tudor\", \"Tononoka\", \"Shimanzi/Ganjoni\", \"Majengo\"\n",
        "            ]\n",
        "        }\n",
        "    },\n",
        "    \"Kwale\": {\n",
        "        \"Msambweni\": {\n",
        "            \"Msambweni\": [\n",
        "                \"Gombato Bongwe\", \"Ukunda\", \"Kinondo\", \"Ramisi\"\n",
        "            ]\n",
        "        },\n",
        "        \"Lungalunga\": {\n",
        "            \"Lungalunga\": [\n",
        "                \"Pongwe/Kikoneni\", \"Dzombo\", \"Mwereni\", \"Vanga\"\n",
        "            ]\n",
        "        },\n",
        "        \"Matuga\": {\n",
        "            \"Matuga\": [\n",
        "                \"Tsima Golini\", \"Waa\", \"Tiwi\", \"Kubo South\", \"Mkongani\"\n",
        "            ]\n",
        "        },\n",
        "        \"Kinango\": {\n",
        "            \"Kinango\": [\n",
        "                \"Ndavaya\", \"Puma\", \"Kinango\", \"Mackinnon Road\", \"Chengoni/Samburu\", \"Mwavumbo\", \"Kasemeni\"\n",
        "            ]\n",
        "        }\n",
        "    },\n",
        "    \"Kilifi\": {\n",
        "        \"Kilifi North\": {\n",
        "            \"Kilifi North\": [\n",
        "                \"Tezo\", \"Sokoni\", \"Kibarani\", \"Dabaso\", \"Matsangoni\", \"Watamu\", \"Mnarani\"\n",
        "            ]\n",
        "        },\n",
        "        \"Kilifi South\": {\n",
        "            \"Kilifi South\": [\n",
        "                \"Junju\", \"Mwarakaya\", \"Shimo La Tewa\", \"Chasimba\", \"Mtepeni\"\n",
        "            ]\n",
        "        },\n",
        "        \"Kaloleni\": {\n",
        "            \"Kaloleni\": [\n",
        "                \"Mariakani\", \"Kayafungo\", \"Kaloleni\", \"Mwanamwinga\"\n",
        "            ]\n",
        "        },\n",
        "        \"Rabai\": {\n",
        "            \"Rabai\": [\n",
        "                \"Mwawesa\", \"Ruruma\", \"Kambe/Ribe\", \"Rabai/Kisurutini\"\n",
        "            ]\n",
        "        },\n",
        "        \"Ganze\": {\n",
        "            \"Ganze\": [\n",
        "                \"Ganze\", \"Bamba\", \"Jaribuni\", \"Sokoke\"\n",
        "            ]\n",
        "        },\n",
        "        \"Malindi\": {\n",
        "            \"Malindi\": [\n",
        "                \"Jilore\", \"Kakuyuni\", \"Ganda\", \"Malindi Town\", \"Shella\"\n",
        "            ]\n",
        "        },\n",
        "        \"Magarini\": {\n",
        "            \"Magarini\": [\n",
        "                \"Marafa\", \"Magarini\", \"Gongoni\", \"Adu\", \"Garashi\", \"Sabaki\"\n",
        "            ]\n",
        "        }\n",
        "    },\n",
        "    \"Tana River\": {\n",
        "        \"Garsen\": {\n",
        "            \"Galole\": [\n",
        "                \"Kipini East\", \"Garsen South\", \"Kipini West\", \"Garsen Central\", \"Garsen West\", \"Garsen North\"\n",
        "            ]\n",
        "        },\n",
        "        \"Galole\": {\n",
        "            \"Galole\": [\n",
        "                \"Kinakomba\", \"Mikinduni\", \"Chewani\", \"Wayu\"\n",
        "            ]\n",
        "        },\n",
        "        \"Bura\": {\n",
        "            \"Bura\": [\n",
        "                \"Chewele\", \"Hirimani\", \"Bangale\", \"Sala\", \"Madogo\"\n",
        "            ]\n",
        "        }\n",
        "    },\n",
        "    \"Lamu\": {\n",
        "        \"Lamu East\": {\n",
        "            \"Lamu East\": [\n",
        "                \"Faza\", \"Kiunga\", \"Basuba\"\n",
        "            ]\n",
        "        },\n",
        "        \"Lamu West\": {\n",
        "            \"Lamu West\": [\n",
        "                \"Shella\", \"Mkomani\", \"Hindi\", \"Mkunumbi\", \"Hongwe\", \"Witu\", \"Bahari\"\n",
        "            ]\n",
        "        }\n",
        "    },\n",
        "    \"Taita Taveta\": {\n",
        "        \"Taveta\": {\n",
        "            \"Taveta\": [\n",
        "                \"Chala\", \"Mahoo\", \"Bomani\", \"Mboghoni\", \"Mata\"\n",
        "            ]\n",
        "        },\n",
        "        \"Wundanyi\": {\n",
        "            \"Wundanyi\": [\n",
        "                \"Wundanyi/Mbale\", \"Werugha\", \"Wumingu/Kishushe\", \"Mwanda/Mgange\"\n",
        "            ]\n",
        "        },\n",
        "        \"Mwatate\": {\n",
        "            \"Mwatate\": [\n",
        "                \"Rong'E\", \"Mwatate\", \"Bura\", \"Chawia\", \"Wusi/Kishamba\"\n",
        "            ]\n",
        "        },\n",
        "        \"Voi\": {\n",
        "            \"Voi\": [\n",
        "                \"Mbololo\", \"Sagalla\", \"Kaloleni\", \"Marungu\", \"Kasigau\", \"Ngolia\"\n",
        "            ]\n",
        "        }\n",
        "    }\n",
        "}\n"
      ],
      "metadata": {
        "id": "TygfeN654Ddr"
      },
      "execution_count": 41,
      "outputs": []
    },
    {
      "cell_type": "code",
      "source": [
        "flat_data=[]\n",
        "for county, subcounties in region_data.items():\n",
        "  for subcounty, constituencies in subcounties.items():\n",
        "    for constituency, wards in constituencies.items():\n",
        "      for ward in wards:\n",
        "        flat_data.append({\n",
        "            'County':county,\n",
        "            'Subcounty':subcounty,\n",
        "            'Constituency':constituency,\n",
        "            'Ward':ward\n",
        "            })\n",
        "# Create the DataFrame\n",
        "df_reference=pd.DataFrame(flat_data)\n",
        "\n",
        "# Display the DataFrame\n",
        "print(df_reference.head())"
      ],
      "metadata": {
        "colab": {
          "base_uri": "https://localhost:8080/"
        },
        "id": "s_-iJmVW__Jo",
        "outputId": "6186a610-2197-45b8-99d2-e0503fd16134"
      },
      "execution_count": 42,
      "outputs": [
        {
          "output_type": "stream",
          "name": "stdout",
          "text": [
            "    County  Subcounty Constituency        Ward\n",
            "0  Mombasa  Changamwe        Mvita  Port Reitz\n",
            "1  Mombasa  Changamwe        Mvita      Kipevu\n",
            "2  Mombasa  Changamwe        Mvita     Airport\n",
            "3  Mombasa  Changamwe        Mvita   Changamwe\n",
            "4  Mombasa  Changamwe        Mvita      Chaani\n"
          ]
        }
      ]
    },
    {
      "cell_type": "code",
      "source": [
        "print(df_coast_region_filtered.head())\n",
        "print(df_coast_region_filtered.shape)\n",
        "print(df_reference.head())\n",
        "print(df_reference.shape)"
      ],
      "metadata": {
        "colab": {
          "base_uri": "https://localhost:8080/"
        },
        "id": "e5opwb0gHD-i",
        "outputId": "617ae4f1-2665-44e8-c206-9253f859351e"
      },
      "execution_count": 43,
      "outputs": [
        {
          "output_type": "stream",
          "name": "stdout",
          "text": [
            "       County SUBCOUNTY CONSTITUENCY              WARD  \\\n",
            "1639  Mombasa   Mombasa        Mvita  Ganjoni/Shimanzi   \n",
            "1640  Mombasa   Mombasa        Mvita  Ganjoni/Shimanzi   \n",
            "1641  Mombasa   Mombasa        Mvita  Ganjoni/Shimanzi   \n",
            "1642  Mombasa   Mombasa        Mvita  Ganjoni/Shimanzi   \n",
            "1643  Mombasa   Mombasa        Mvita  Ganjoni/Shimanzi   \n",
            "\n",
            "                     SITENAME  \n",
            "1639              TKL Mombasa  \n",
            "1640               CC Mombasa  \n",
            "1641  County Assembly Mombasa  \n",
            "1642         Governor Mombasa  \n",
            "1643              KNA Mombasa  \n",
            "(784, 5)\n",
            "    County  Subcounty Constituency        Ward\n",
            "0  Mombasa  Changamwe        Mvita  Port Reitz\n",
            "1  Mombasa  Changamwe        Mvita      Kipevu\n",
            "2  Mombasa  Changamwe        Mvita     Airport\n",
            "3  Mombasa  Changamwe        Mvita   Changamwe\n",
            "4  Mombasa  Changamwe        Mvita      Chaani\n",
            "(130, 4)\n"
          ]
        }
      ]
    },
    {
      "cell_type": "code",
      "source": [
        "print(df_coast_region_filtered.isnull().sum())\n",
        "print(df_reference.isnull().sum())\n",
        "df_original=pd.read_csv('/content/FINAL COMBINED SITES - Sites (2).csv')\n",
        "print(df_original.shape)\n"
      ],
      "metadata": {
        "colab": {
          "base_uri": "https://localhost:8080/"
        },
        "id": "6NUFITMPThy0",
        "outputId": "a4bf6983-ce54-4be6-f932-2f37b41d1ccd"
      },
      "execution_count": 44,
      "outputs": [
        {
          "output_type": "stream",
          "name": "stdout",
          "text": [
            "County            0\n",
            "SUBCOUNTY       233\n",
            "CONSTITUENCY    290\n",
            "WARD            548\n",
            "SITENAME          1\n",
            "dtype: int64\n",
            "County          0\n",
            "Subcounty       0\n",
            "Constituency    0\n",
            "Ward            0\n",
            "dtype: int64\n",
            "(784, 5)\n"
          ]
        }
      ]
    },
    {
      "cell_type": "code",
      "source": [
        "# Create a dictionary mapping subcounties to their co nstituencies and wards\n",
        "subcounty_to_constituency={}\n",
        "for _, row in df_reference.iterrows():\n",
        "  subcounty_to_constituency[row['Subcounty']]={\n",
        "      'Constituency':row['Constituency'],\n",
        "      'Ward':row['Ward']\n",
        "  }\n",
        "\n",
        "# Function to map site name to subcounty, constituency, wards based on keywords in site names\n",
        "def map_site_to_location(site_name):\n",
        "    # Check if subcounty is exactly in the site name\n",
        "    for subcounty in subcounty_to_constituency:\n",
        "        # Compare the site name and subcounty for exact match (case insensitive)\n",
        "        if subcounty.lower() in site_name.lower():  # Partial match is fine\n",
        "            return (subcounty, subcounty_to_constituency[subcounty]['Constituency'], subcounty_to_constituency[subcounty]['Ward'])\n",
        "    return (\"Unknown\", \"Unknown\", \"Unknown\")  # Return \"Unknown\" if no match is found\n",
        "\n",
        "\n",
        "    # Apply the function to the original datasetto get constituency and ward\n",
        "    df_coast_region_filtered[['SUBCOUNTY', 'CONSTITUENCY', 'WARD']] = df_coast_region_filtered['SITENAME'].apply(lambda x: pd.Series(map_site_to_location(x)))\n",
        "\n",
        "# Display the updated dataset\n",
        "print(df_coast_region_filtered.head())"
      ],
      "metadata": {
        "colab": {
          "base_uri": "https://localhost:8080/"
        },
        "id": "vkzURQx4T6ax",
        "outputId": "5a609aae-1376-4d10-aeea-a7406a6d75e3"
      },
      "execution_count": 45,
      "outputs": [
        {
          "output_type": "stream",
          "name": "stdout",
          "text": [
            "       County SUBCOUNTY CONSTITUENCY              WARD  \\\n",
            "1639  Mombasa   Mombasa        Mvita  Ganjoni/Shimanzi   \n",
            "1640  Mombasa   Mombasa        Mvita  Ganjoni/Shimanzi   \n",
            "1641  Mombasa   Mombasa        Mvita  Ganjoni/Shimanzi   \n",
            "1642  Mombasa   Mombasa        Mvita  Ganjoni/Shimanzi   \n",
            "1643  Mombasa   Mombasa        Mvita  Ganjoni/Shimanzi   \n",
            "\n",
            "                     SITENAME  \n",
            "1639              TKL Mombasa  \n",
            "1640               CC Mombasa  \n",
            "1641  County Assembly Mombasa  \n",
            "1642         Governor Mombasa  \n",
            "1643              KNA Mombasa  \n"
          ]
        }
      ]
    },
    {
      "cell_type": "code",
      "source": [
        "# Debugging: Check which site names are being matched\n",
        "def map_site_to_location_debug(site_name):\n",
        "    # Check if site_name is a valid string before attempting to use 'lower()'\n",
        "    if isinstance(site_name, str):  # Ensure the value is a string\n",
        "        for subcounty in subcounty_to_constituency:\n",
        "            if subcounty.lower() in site_name.lower():  # Partial match (case insensitive)\n",
        "                print(f\"Matched: {site_name} -> {subcounty}\")\n",
        "                return (subcounty, subcounty_to_constituency[subcounty]['Constituency'], subcounty_to_constituency[subcounty]['Ward'])\n",
        "    else:\n",
        "        print(f\"No match for: {site_name} (Not a valid string)\")\n",
        "\n",
        "    return (\"Unknown\", \"Unknown\", \"Unknown\")  # Return \"Unknown\" if no match is found\n",
        "\n",
        "# Apply the function to the original dataset to get constituency and ward\n",
        "df_coast_region_filtered[['SUBCOUNTY', 'CONSTITUENCY', 'WARD']] = df_coast_region_filtered['SITENAME'].apply(lambda x: pd.Series(map_site_to_location_debug(x)))\n",
        "\n",
        "# Display the updated dataset\n",
        "print(df_coast_region_filtered.head())\n",
        "\n"
      ],
      "metadata": {
        "colab": {
          "base_uri": "https://localhost:8080/"
        },
        "id": "cmHn718WX4q3",
        "outputId": "a1676734-1f90-447d-a9c5-cc0129bfc339"
      },
      "execution_count": 51,
      "outputs": [
        {
          "output_type": "stream",
          "name": "stdout",
          "text": [
            "Matched: JOMVU DCC -> Jomvu\n",
            "Matched: LIKONI ACC -> Likoni\n",
            "Matched: KISAUNI DCC -> Kisauni\n",
            "Matched: CHANGAMWE DCC -> Changamwe\n",
            "Matched: LUNGALUNGA DCC -> Lungalunga\n",
            "Matched: MSAMBWENI DCC -> Msambweni\n",
            "Matched: MATUGA DCC -> Matuga\n",
            "Matched: KINANGO DCC -> Kinango\n",
            "Matched: LUNGALUNGA SUB COUNTY HOSPITAL -> Lungalunga\n",
            "Matched: MSAMBWENI SUB COUNTY PROBATION CHILDREN -> Msambweni\n",
            "Matched: KENYA SCHOOL OF GOVERNMENT(MATUGA) -> Matuga\n",
            "Matched: RABAI DCC -> Rabai\n",
            "Matched: MALINDI DCC -> Malindi\n",
            "Matched: MAGARINI HEALTH CENTER -> Magarini\n",
            "Matched: MAGARINI DCC (MARAFA) -> Magarini\n",
            "Matched: KALOLENI DCC -> Kaloleni\n",
            "Matched: GANZE DCC -> Ganze\n",
            "Matched: Malindi Airport -> Malindi\n",
            "Matched: Malindi Airport -> Malindi\n",
            "Matched: MAGARINI HEALTH CENTER -> Magarini\n",
            "Matched: GANZE SUB COUNTY NRB -> Ganze\n",
            "Matched: DCC Kilifi North -> Kilifi North\n",
            "Matched: Tana North (Bura) DCC -> Bura\n",
            "Matched: Tana Delta (Garsen) DCC -> Garsen\n",
            "Matched: Garsen CRD＆Public Works Tana River -> Garsen\n",
            "Matched: LAMU WEST (MPEKETONI) DCC -> Lamu West\n",
            "Matched: TKL Taita Taveta -> Taveta\n",
            "Matched: CC Taita Taveta -> Taveta\n",
            "Matched: County Assembly Taita Taveta -> Taveta\n",
            "Matched: Governor Taita Taveta -> Taveta\n",
            "Matched: KNA Taita Taveta -> Taveta\n",
            "Matched: NRB Taita Taveta -> Taveta\n",
            "Matched: Kerra Taita Taveta -> Taveta\n",
            "Matched: Prison Taita Taveta -> Taveta\n",
            "Matched: TAVETA DCC Taita Taveta -> Taveta\n",
            "Matched: VOI DCC Taita Taveta -> Taveta\n",
            "Matched: TAITA TAVETA (MWATATE) CC -> Taveta\n",
            "Matched: KENHA Taita Taveta -> Taveta\n",
            "Matched: TAVETA KRA -> Taveta\n",
            "Matched: VOI SUB COUNTY KMTC -> Voi\n",
            "Matched: County Government-Mwatate -> Mwatate\n",
            "Matched: TAITA TAVETA(WUNDANYI) COUNTY AGRICULTURE -> Taveta\n",
            "Matched: TAITA TAVETA(WUNDANYI) COUNTY ASSEMBLY -> Taveta\n",
            "Matched: VOI KNA -> Voi\n",
            "Matched: Garsen CRD＆Public Works Taita Taveta -> Garsen\n",
            "Matched: Ganze Youth Center -> Ganze\n",
            "Matched: Rabai Sub County Hospital Level 4 -> Rabai\n",
            "Matched: Rabai Police Station -> Rabai\n",
            "Matched: Malindi Probation Office -> Malindi\n",
            "Matched: Malindi Childrens' Remand Center -> Malindi\n",
            "Matched: Malindi Museum -> Malindi\n",
            "Matched: Malindi Central Primary School -> Malindi\n",
            "Matched: Kinango secondary -> Kinango\n",
            "Matched: Ministry of lands kinango -> Kinango\n",
            "Matched: Kwale county government Kinango -> Kinango\n",
            "Matched: Kinango sub-county hospital -> Kinango\n",
            "Matched: Kinango primary -> Kinango\n",
            "Matched: Kinango chief’s office -> Kinango\n",
            "Matched: KRA/IMMIGRATION OFFICE HOROHORO LUNGALUNGA BORDER -> Lungalunga\n",
            "Matched: LUNGALUNGA BORDER POLICE POST -> Lungalunga\n",
            "Matched: Msambweni Primary -> Msambweni\n",
            "Matched: Msambweni Secondary -> Msambweni\n",
            "Matched: Msambweni Vocational Training Center -> Msambweni\n",
            "Matched: Msambweni DCC -> Msambweni\n",
            "Matched: Taveta DCC -> Taveta\n",
            "Matched: Taveta NG-CDF -> Taveta\n",
            "Matched: Taveta prison -> Taveta\n",
            "Matched: Taveta Municipality -> Taveta\n",
            "Matched: Taveta Social Development -> Taveta\n",
            "Matched: KWS Taveta -> Taveta\n",
            "Matched: Taveta Police Station -> Taveta\n",
            "Matched: Taveta Market -> Taveta\n",
            "Matched: voi library -> Voi\n",
            "Matched: wundanyi police -> Wundanyi\n",
            "Matched: wundanyi Acc/cipu -> Wundanyi\n",
            "Matched: Garsen TVC -> Garsen\n",
            "Matched: Garsen DCC -> Garsen\n",
            "Matched: Garsen Comprehensive School -> Garsen\n",
            "Matched: Garsen Modern and Bus Park -> Garsen\n",
            "Matched: The National Treasury & Magarini AP office -> Magarini\n",
            "Matched: JOMVU GIRLS HIGH SCHOOL -> Jomvu\n",
            "Matched: KWA JOMVU CHIEF OFFICE -> Jomvu\n",
            "Matched: TSC OFFICES KALOLENI SUB COUNTY -> Kaloleni\n",
            "Matched: KALOLENI SOCIAL HALL -> Kaloleni\n",
            "Matched: KALOLENI CDF -> Kaloleni\n",
            "Matched: KALOLENI YOUTH POLYTECHNIC -> Kaloleni\n",
            "Matched: KALOLENI MARKET -> Kaloleni\n",
            "Matched: Msambweni subcounty Police HQ -> Msambweni\n",
            "Matched: Mwatate Primary -> Mwatate\n",
            "Matched: Chiefs Office Mwatate Location -> Mwatate\n",
            "Matched: Mwatate Muncilality -> Mwatate\n",
            "Matched: Mwatate Mordern Mkt -> Mwatate\n",
            "Matched: Mwatate Subcounty Hospital -> Mwatate\n",
            "Matched: Changamwe Police Station -> Changamwe\n",
            "Matched: Changamwe Market -> Changamwe\n",
            "Matched: Changamwe Social Hall -> Changamwe\n",
            "Matched: Lamu West CDF -> Lamu West\n",
            "Matched: VOI CHIEFS OFFICE -> Voi\n",
            "Matched: VOI CDF OFFICE -> Voi\n",
            "Matched: VOI PRISON -> Voi\n",
            "Matched: VOI COUNTY REFERAL HOSPITAL -> Voi\n",
            "Matched: VOI KMTC -> Voi\n",
            "Matched: VOI POLICE STATION -> Voi\n",
            "Matched: VOI STADIUM -> Voi\n",
            "Matched: VOI STAGE -> Voi\n",
            "Matched: VOI MUNICIPALITY -> Voi\n",
            "Matched: TAITA TAVETA NATIONAL POLYTECHNIC -> Taveta\n",
            "Matched: kisauni dispensary -> Kisauni\n",
            "Matched: KISAUNI SUBCOUNTY OFFICES -> Kisauni\n",
            "Matched: LIKONI CDF AJILA CENTRE -> Likoni\n",
            "Matched: Likoni Youth Empowerment Center -> Likoni\n",
            "Matched: Voi Youth Empowerment Center -> Voi\n",
            "Matched: Rabai Museum -> Rabai\n",
            "Matched: Watamu Youth Empowerment Centre - Kilifi North -> Kilifi North\n",
            "Matched: Kwa Jomvu Chiefs Office -> Jomvu\n",
            "Matched: NG-CDF Likoni -> Likoni\n",
            "Matched: Likoni-YEC -> Likoni\n",
            "Matched: Voi Youth Empowerment Center -> Voi\n",
            "Matched: Galole ict hub -> Galole\n",
            "Matched: MALINDI HIGH -> Malindi\n",
            "No match for: nan (Not a valid string)\n",
            "Matched: VOI SEC SCH -> Voi\n",
            "Matched: HGM Malindi Primary -> Malindi\n",
            "Matched: Mbuyu wa Chapa Jomvu CAIPS -> Jomvu\n",
            "Matched: CHANGAMWE Immigration Office -> Changamwe\n",
            "Matched: KALOLENI Immigration Office -> Kaloleni\n",
            "Matched: MAGARINI Immigration Office -> Magarini\n",
            "Matched: MALINDI Immigration Office -> Malindi\n",
            "Matched: MATUGA Immigration Office -> Matuga\n",
            "Matched: LAMU WEST Immigration Office -> Lamu West\n",
            "Matched: Taita Taveta NEA Office -> Taveta\n",
            "Matched: Malindi NEA Office -> Malindi\n",
            "Matched: Ngomeni Health Centre (Magarini) -> Magarini\n",
            "Matched: Kisauni Health Centre -> Kisauni\n",
            "Matched: Bura Health Centre -> Bura\n",
            "Matched: Mwanda Health Centre (Taita Taveta) -> Taveta\n",
            "Matched: Wundanyi Sub County Hospital -> Wundanyi\n",
            "Matched: MALINDI CENTRAL -> Malindi\n",
            "Matched: TATA TAVETA UNIVERSITY -> Taveta\n",
            "Matched: KILIFI NORTH DCC -> Kilifi North\n",
            "Matched: MATUGA YEC -> Matuga\n",
            "Matched: WUNDANYI DCC / OLD GOVERNOR EXISTING -> Wundanyi\n",
            "Matched: WUNDANYI LAW COURTS -> Wundanyi\n",
            "Matched: MWATATE DIVISIONAL POLICE HQs -> Mwatate\n",
            "Matched: MWATATE NATIONAL TREASURY + ACC + SUBCOUNTY EDUCATION OFFICE + MIN. OF LABOUR & SOCIAL PROTECTION -> Mwatate\n",
            "Matched: Ganze DCC Office / Treasury/ CIPU -> Ganze\n",
            "Matched: Ganze Health Center -> Ganze\n",
            "Matched: DCI Ganze -> Ganze\n",
            "Matched: Ganze Sub County Administration HQs -> Ganze\n",
            "Matched: Ganze VTC - They were speculating to move -> Ganze\n",
            "Matched: Kaloleni DCC Office/ NRB -> Kaloleni\n",
            "Matched: Kaloleni Social Devt & Chief / ACC/ ODPP / Youth Office (Formerly AMREF) -> Kaloleni\n",
            "Matched: Kaloleni Law Courts -> Kaloleni\n",
            "Matched: Kaloleni Sub County Administration Offices -> Kaloleni\n",
            "Matched: National Treasury Kaloleni -> Kaloleni\n",
            "Matched: Probation & After Care Services Kaloleni -> Kaloleni\n",
            "Matched: Kaloleni TSC/ Kizurini Primary/ Kizurini Secondary School - It meets the criteria however they never intended to connect schools. -> Kaloleni\n",
            "Matched: Magarini YEC – Gongoni -> Magarini\n",
            "Matched: Magarini NG CDF & Agriculture / Social Services – Gongoni -> Magarini\n",
            "Matched: Magarini DCC Office – Marafa / Police Station -> Magarini\n",
            "Matched: ACC Magarini Division / Snr Chief Gongoni / NRB & Gongoni Police Station -> Magarini\n",
            "Matched: Magarini NRB/ Procurement / KFS / Agriculture - Marafa -> Magarini\n",
            "Matched: Magarini SCDE/ TSC/ Children/ Adult Education Marafa - It meets the criteria -> Magarini\n",
            "Matched: KINANGO SUB COUNTY HOSPITAL -> Kinango\n",
            "Matched: KINANGO DCC OFFICE (EXISTING) -> Kinango\n",
            "Matched: KINANGO PUBLIC LIBRARY -> Kinango\n",
            "Matched: EDUCATION COMPLEX KINANGO/ TSC/ ADULT EDUCATION -> Kinango\n",
            "Matched: MIN. OF LANDS KINANGO (ADJUDICATION/ SURVEY) -> Kinango\n",
            "Matched: KINANGO SUB COUNTY YOUTH OFFICE -> Kinango\n",
            "Matched: KINANGO VTC - It meets the selection criteria -> Kinango\n",
            "Matched: KINANGO BIASHARA CENTER - It only requires an ethernet feed from Sub County Hqs if the later gets selected -> Kinango\n",
            "Matched: KINANGO POLICE STATION - It meets the selection criteria -> Kinango\n",
            "Matched: KINANGO YEC - It meets the selection criteria -> Kinango\n",
            "Matched: KINANGO NG CDF/ CRD/ CHILDREN - It meets the selection criteria -> Kinango\n",
            "Matched: KINANGO SUB COUNTY HQs - It meets the selection criteria -> Kinango\n",
            "Matched: MSAMBWENI SUB COUNTY REFERRAL HOSPITAL -> Msambweni\n",
            "Matched: MSAMBWENI DCC OFFICE (EXISTING) -> Msambweni\n",
            "Matched: KFS MSAMBWENI -> Msambweni\n",
            "Matched: LAMU WEST EDUCATION OFFICE, MPEKETONI -> Lamu West\n",
            "Matched: JOMVU DCC OFFICE & POLICE STATION & TRAFFIC & DCIO (EXISTING) -> Jomvu\n",
            "Matched: LIKONI TVC -> Likoni\n",
            "Matched: LIKONI DCC & TREASURY OFFICES (EXISTING) -> Likoni\n",
            "Matched: LIKONI YEC / CHILDREN / SOCIAL DEVELOPMENT / W.E.F / UWEZO / YOUTH FUND -> Likoni\n",
            "Matched: LIKONI POLICE STATION & SUB COUNTY POLICE & DCI & TRAFFIC -> Likoni\n",
            "Matched: NG CDF LIKONI / AJIRA / CONSTITUENCY OFFICE -> Likoni\n",
            "Matched: MINISTRY OF EDUCATION LIKONI / TSC & TIMBWANI CHIEF -> Likoni\n",
            "Matched: TAVETA PRISONS + QUARTERS -> Taveta\n",
            "Matched: TAVETA DCC OFFICE (EXISTING) -> Taveta\n",
            "Matched: TAVETA NG CDF / AJIRA -> Taveta\n",
            "Matched: TAVETA TREASURY BUILDING -> Taveta\n",
            "Matched: TAVETA KMTC - It meets the selection criteria -> Taveta\n",
            "Matched: TAVETA SUB COUNTY HOSPITAL - It meets the selection criteria -> Taveta\n",
            "Matched: SUB COUNTY ADMIN OFFICE/ TOWN ADMIN TAVETA - It meets the Selection Criteria -> Taveta\n",
            "Matched: TAVETA DIVISIONAL POLICE HQs - It meets the selection criteria -> Taveta\n",
            "Matched: KFS TAVETA & COUNTY AGRICULTURE - They can be connected from Social services if the later is selected -> Taveta\n",
            "Matched: PROBATION SERVICES TAVETA - It can be connected from Social services if the later is selected -> Taveta\n",
            "Matched: VOI DIVISIONAL POLICE HQS & DCI & GENDER -> Voi\n",
            "Matched: VOI KNLS/ AJIRA -> Voi\n",
            "Matched: VOI GEMSTONE CENTER (MIN. OF MINING) -> Voi\n",
            "Matched: VOI DCC OFFICE (EXISTING) -> Voi\n",
            "Matched: HOUSING / ROADS / MINING & ACC2 VOI & CHIEF -> Voi\n",
            "Matched: VOI YEC -> Voi\n",
            "Matched: PROBATION OFFICE VOI - It meets the selection criteria -> Voi\n",
            "Matched: GARSEN TECHNICAL TRAINING INSTITUTE -> Garsen\n",
            "Matched: GARSEN SUB-COUNTY HOSPITAL (HEALTH CENTER) -> Garsen\n",
            "       County SUBCOUNTY CONSTITUENCY     WARD                 SITENAME\n",
            "1639  Mombasa   Unknown      Unknown  Unknown              TKL Mombasa\n",
            "1640  Mombasa   Unknown      Unknown  Unknown               CC Mombasa\n",
            "1641  Mombasa   Unknown      Unknown  Unknown  County Assembly Mombasa\n",
            "1642  Mombasa   Unknown      Unknown  Unknown         Governor Mombasa\n",
            "1643  Mombasa   Unknown      Unknown  Unknown              KNA Mombasa\n"
          ]
        },
        {
          "output_type": "stream",
          "name": "stderr",
          "text": [
            "<ipython-input-51-6aefe7908a64>:15: SettingWithCopyWarning: \n",
            "A value is trying to be set on a copy of a slice from a DataFrame.\n",
            "Try using .loc[row_indexer,col_indexer] = value instead\n",
            "\n",
            "See the caveats in the documentation: https://pandas.pydata.org/pandas-docs/stable/user_guide/indexing.html#returning-a-view-versus-a-copy\n",
            "  df_coast_region_filtered[['SUBCOUNTY', 'CONSTITUENCY', 'WARD']] = df_coast_region_filtered['SITENAME'].apply(lambda x: pd.Series(map_site_to_location_debug(x)))\n"
          ]
        }
      ]
    },
    {
      "cell_type": "code",
      "source": [
        "!pip install rapidfuzz\n",
        "\n",
        "from rapidfuzz import fuzz\n",
        "\n",
        "# Function to perform fuzzy matching using rapidfuzz\n",
        "def fuzzy_map_site_to_location_rapidfuzz(site_name):\n",
        "    # Ensure the site_name is a valid string before applying .lower()\n",
        "    if isinstance(site_name, str):  # Ensure the value is a string\n",
        "        highest_match = None\n",
        "        highest_score = 0\n",
        "\n",
        "        for subcounty in subcounty_to_constituency:\n",
        "            score = fuzz.partial_ratio(site_name.lower(), subcounty.lower())\n",
        "            if score > highest_score:\n",
        "                highest_score = score\n",
        "                highest_match = subcounty\n",
        "\n",
        "        # If the match score is above a threshold, return the subcounty, constituency, and ward\n",
        "        if highest_score > 80:  # You can set a threshold for fuzzy matching\n",
        "            return (highest_match, subcounty_to_constituency[highest_match]['Constituency'], subcounty_to_constituency[highest_match]['Ward'])\n",
        "\n",
        "    # If site_name is not a string (NaN, etc.), return \"Unknown\"\n",
        "    return (\"Unknown\", \"Unknown\", \"Unknown\")\n",
        "\n",
        "# Apply the fuzzy matching function and correctly assign the results to the corresponding columns\n",
        "df_coast_region_filtered[['SUBCOUNTY', 'CONSTITUENCY', 'WARD']] = df_coast_region_filtered['SITENAME'].apply(lambda x: pd.Series(fuzzy_map_site_to_location_rapidfuzz(x)))\n",
        "\n",
        "# Display the updated dataset\n",
        "print(df_coast_region_filtered.head())\n",
        "\n",
        "\n",
        "\n",
        "\n"
      ],
      "metadata": {
        "colab": {
          "base_uri": "https://localhost:8080/"
        },
        "id": "ND_mnoakmKQq",
        "outputId": "955489dc-e44d-4df5-909a-7416e551e141"
      },
      "execution_count": 59,
      "outputs": [
        {
          "output_type": "stream",
          "name": "stdout",
          "text": [
            "Requirement already satisfied: rapidfuzz in /usr/local/lib/python3.11/dist-packages (3.12.2)\n",
            "       County SUBCOUNTY CONSTITUENCY     WARD                 SITENAME\n",
            "1639  Mombasa   Unknown      Unknown  Unknown              TKL Mombasa\n",
            "1640  Mombasa   Unknown      Unknown  Unknown               CC Mombasa\n",
            "1641  Mombasa   Unknown      Unknown  Unknown  County Assembly Mombasa\n",
            "1642  Mombasa   Unknown      Unknown  Unknown         Governor Mombasa\n",
            "1643  Mombasa   Unknown      Unknown  Unknown              KNA Mombasa\n"
          ]
        },
        {
          "output_type": "stream",
          "name": "stderr",
          "text": [
            "<ipython-input-59-eff173205cfa>:26: SettingWithCopyWarning: \n",
            "A value is trying to be set on a copy of a slice from a DataFrame.\n",
            "Try using .loc[row_indexer,col_indexer] = value instead\n",
            "\n",
            "See the caveats in the documentation: https://pandas.pydata.org/pandas-docs/stable/user_guide/indexing.html#returning-a-view-versus-a-copy\n",
            "  df_coast_region_filtered[['SUBCOUNTY', 'CONSTITUENCY', 'WARD']] = df_coast_region_filtered['SITENAME'].apply(lambda x: pd.Series(fuzzy_map_site_to_location_rapidfuzz(x)))\n"
          ]
        }
      ]
    },
    {
      "cell_type": "code",
      "source": [
        "# Save the updated dataset\n",
        "df_coast_region_filtered.to_csv('updated_sites_with_location.csv', index=False)\n",
        "print('The dataset has been sucessfully updated and saved!')"
      ],
      "metadata": {
        "colab": {
          "base_uri": "https://localhost:8080/"
        },
        "id": "f_x2BR7lZhzI",
        "outputId": "b8cf3caa-3fb6-46e0-c8a5-664b36e360d5"
      },
      "execution_count": 60,
      "outputs": [
        {
          "output_type": "stream",
          "name": "stdout",
          "text": [
            "The dataset has been sucessfully updated and saved!\n"
          ]
        }
      ]
    },
    {
      "cell_type": "code",
      "source": [
        "df_coast_region_filtered.to_csv('updated_sites_with_location.csv', index=False, encoding='utf-8')\n",
        "\n",
        "from google.colab import files\n",
        "files.download('updated_sites_with_location.csv')\n",
        "# Check the first few rows to confirm it's written correctly\n",
        "!head updated_sites_with_location.csv\n"
      ],
      "metadata": {
        "colab": {
          "base_uri": "https://localhost:8080/",
          "height": 191
        },
        "id": "9MN3FbwzbuSM",
        "outputId": "577acee6-cd8f-49db-bf8b-5107ccc1255b"
      },
      "execution_count": 61,
      "outputs": [
        {
          "output_type": "display_data",
          "data": {
            "text/plain": [
              "<IPython.core.display.Javascript object>"
            ],
            "application/javascript": [
              "\n",
              "    async function download(id, filename, size) {\n",
              "      if (!google.colab.kernel.accessAllowed) {\n",
              "        return;\n",
              "      }\n",
              "      const div = document.createElement('div');\n",
              "      const label = document.createElement('label');\n",
              "      label.textContent = `Downloading \"${filename}\": `;\n",
              "      div.appendChild(label);\n",
              "      const progress = document.createElement('progress');\n",
              "      progress.max = size;\n",
              "      div.appendChild(progress);\n",
              "      document.body.appendChild(div);\n",
              "\n",
              "      const buffers = [];\n",
              "      let downloaded = 0;\n",
              "\n",
              "      const channel = await google.colab.kernel.comms.open(id);\n",
              "      // Send a message to notify the kernel that we're ready.\n",
              "      channel.send({})\n",
              "\n",
              "      for await (const message of channel.messages) {\n",
              "        // Send a message to notify the kernel that we're ready.\n",
              "        channel.send({})\n",
              "        if (message.buffers) {\n",
              "          for (const buffer of message.buffers) {\n",
              "            buffers.push(buffer);\n",
              "            downloaded += buffer.byteLength;\n",
              "            progress.value = downloaded;\n",
              "          }\n",
              "        }\n",
              "      }\n",
              "      const blob = new Blob(buffers, {type: 'application/binary'});\n",
              "      const a = document.createElement('a');\n",
              "      a.href = window.URL.createObjectURL(blob);\n",
              "      a.download = filename;\n",
              "      div.appendChild(a);\n",
              "      a.click();\n",
              "      div.remove();\n",
              "    }\n",
              "  "
            ]
          },
          "metadata": {}
        },
        {
          "output_type": "display_data",
          "data": {
            "text/plain": [
              "<IPython.core.display.Javascript object>"
            ],
            "application/javascript": [
              "download(\"download_6d5727ac-67dc-4cb9-b21f-a9fe912c79c3\", \"updated_sites_with_location.csv\", 42602)"
            ]
          },
          "metadata": {}
        },
        {
          "output_type": "stream",
          "name": "stdout",
          "text": [
            "County,SUBCOUNTY,CONSTITUENCY,WARD,SITENAME\n",
            "Mombasa,Unknown,Unknown,Unknown,TKL Mombasa\n",
            "Mombasa,Unknown,Unknown,Unknown,CC Mombasa\n",
            "Mombasa,Unknown,Unknown,Unknown,County Assembly Mombasa\n",
            "Mombasa,Unknown,Unknown,Unknown,Governor Mombasa\n",
            "Mombasa,Unknown,Unknown,Unknown,KNA Mombasa\n",
            "Mombasa,Unknown,Unknown,Unknown,Bima Mombasa\n",
            "Mombasa,Unknown,Unknown,Unknown,Kerra Mombasa\n",
            "Mombasa,Jomvu,Jomvu,Mikindani,JOMVU DCC\n",
            "Mombasa,Likoni,Likoni,Timbwani,LIKONI ACC\n"
          ]
        }
      ]
    }
  ]
}